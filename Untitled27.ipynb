{
  "nbformat": 4,
  "nbformat_minor": 0,
  "metadata": {
    "colab": {
      "provenance": [],
      "authorship_tag": "ABX9TyOwnk1eIB3l5r/2IkyPQV5A",
      "include_colab_link": true
    },
    "kernelspec": {
      "name": "python3",
      "display_name": "Python 3"
    },
    "language_info": {
      "name": "python"
    }
  },
  "cells": [
    {
      "cell_type": "markdown",
      "metadata": {
        "id": "view-in-github",
        "colab_type": "text"
      },
      "source": [
        "<a href=\"https://colab.research.google.com/github/hector356/app-web-streamlit/blob/main/Untitled27.ipynb\" target=\"_parent\"><img src=\"https://colab.research.google.com/assets/colab-badge.svg\" alt=\"Open In Colab\"/></a>"
      ]
    },
    {
      "cell_type": "code",
      "source": [
        "!pip install streamlit pyngrok"
      ],
      "metadata": {
        "id": "WEKT0-ptLfQH"
      },
      "execution_count": null,
      "outputs": []
    },
    {
      "cell_type": "code",
      "source": [
        "from pyngrok import ngrok\n",
        "ngrok.set_auth_token(\"TU_AUTHTOKEN\")\n"
      ],
      "metadata": {
        "id": "FV_mhPLjPyBS"
      },
      "execution_count": 7,
      "outputs": []
    },
    {
      "cell_type": "code",
      "source": [
        "%%writefile app_titanic.py\n",
        "import streamlit as st\n",
        "import pandas as pd\n",
        "import matplotlib.pyplot as plt\n",
        "import altair as alt\n",
        "\n",
        "#Título\n",
        "st.title(\"Análisis de Datos del Titanic\")\n",
        "\n",
        "#archivo CSV\n",
        "df = pd.read_csv('database_titanic.csv')\n",
        "st.write(\"Primeras 5 filas del archivo:\")\n",
        "st.write(df.head())\n",
        "\n",
        "#Filtrar columna\n",
        "col = st.selectbox(\"Selecciona una columna para filtrar\", df.columns)\n",
        "valor_min = st.slider(\"Selecciona un valor mínimo\", float(df[col].min()), float(df[col].max()))\n",
        "df_filtrado = df[df[col] >= valor_min]\n",
        "st.write(f\"Datos filtrados donde {col} >= {valor_min}:\")\n",
        "st.write(df_filtrado)\n",
        "\n",
        "#Visualización\n",
        "fig, ax = plt.subplots()\n",
        "ax.hist(df[col], bins=20)\n",
        "ax.set_title(f\"Histograma de {col}\")\n",
        "st.pyplot(fig)\n",
        "\n",
        "#Visualización Altair\n",
        "x_axis = st.selectbox(\"Selecciona el eje X\", df.select_dtypes(include=\"number\").columns)\n",
        "y_axis = st.selectbox(\"Selecciona el eje Y\", df.select_dtypes(include=\"number\").columns)\n",
        "chart = alt.Chart(df).mark_circle(size=60).encode(\n",
        "    x=x_axis,\n",
        "    y=y_axis,\n",
        "    tooltip=[x_axis, y_axis]\n",
        ").interactive()\n",
        "st.altair_chart(chart, use_container_width=True)\n"
      ],
      "metadata": {
        "colab": {
          "base_uri": "https://localhost:8080/"
        },
        "id": "pgeJlH5yP2fi",
        "outputId": "0ffe6f60-3b77-470a-b63d-d9ee345b6218"
      },
      "execution_count": 9,
      "outputs": [
        {
          "output_type": "stream",
          "name": "stdout",
          "text": [
            "Overwriting app_titanic.py\n"
          ]
        }
      ]
    }
  ]
}